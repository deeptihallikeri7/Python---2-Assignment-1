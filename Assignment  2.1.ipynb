{
 "cells": [
  {
   "cell_type": "code",
   "execution_count": 4,
   "metadata": {},
   "outputs": [
    {
     "name": "stdout",
     "output_type": "stream",
     "text": [
      "Input the comma sepreated numbers:1, 2, 58, 100\n",
      "Generated list from input: ['1', ' 2', ' 58', ' 100']\n"
     ]
    }
   ],
   "source": [
    "#Getting the comma seperated numbers as input\n",
    "in_val=input(\"Input the comma sepreated numbers:\")\n",
    "#splitting the comma seperated numbers to get the list \n",
    "list = in_val.split(\",\")\n",
    "print(\"Generated list from input:\", list)"
   ]
  },
  {
   "cell_type": "code",
   "execution_count": null,
   "metadata": {},
   "outputs": [],
   "source": []
  }
 ],
 "metadata": {
  "kernelspec": {
   "display_name": "Python 3",
   "language": "python",
   "name": "python3"
  },
  "language_info": {
   "codemirror_mode": {
    "name": "ipython",
    "version": 3
   },
   "file_extension": ".py",
   "mimetype": "text/x-python",
   "name": "python",
   "nbconvert_exporter": "python",
   "pygments_lexer": "ipython3",
   "version": "3.6.4"
  }
 },
 "nbformat": 4,
 "nbformat_minor": 2
}
